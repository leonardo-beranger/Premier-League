{
 "cells": [
  {
   "cell_type": "markdown",
   "id": "60dd4271",
   "metadata": {},
   "source": [
    "| Colunas       | Descrição                                                                                                              |\n",
    "|---------------|------------------------------------------------------------------------------------------------------------------------|\n",
    "| Date          | A data em que a partida foi disputada                                                                                  |\n",
    "| Season        | A temporada de futebol em que a partida ocorreu (geralmente abrange dois anos, por exemplo, 2023‑24)                    |\n",
    "| HomeTeam      | O time que joga em seu estádio                                                                                         |\n",
    "| AwayTeam      | O time visitante                                                                                                       |\n",
    "| FTH Goals     | Gols em casa no tempo integral (total de gols marcados pelo time da casa ao final da partida)                         |\n",
    "| FTA Goals     | Gols fora de casa no tempo integral (total de gols marcados pelo time visitante ao final da partida)                 |\n",
    "| FT Result     | Resultado no tempo integral (normalmente H para vitória em casa, A para vitória fora, D para empate)                   |\n",
    "| HTH Goals     | Gols em casa no intervalo (gols marcados pelo time da casa no intervalo)                                               |\n",
    "| HTA Goals     | Gols fora de casa no intervalo (gols marcados pelo time visitante no intervalo)                                        |\n",
    "| HT Result     | Resultado no intervalo (H mandante liderando, A visitante liderando, D empate no intervalo)                           |\n",
    "| Referee       | Nome do árbitro da partida                                                                                             |\n",
    "| H Shots       | Total de chutes tentados pelo time da casa                                                                             |\n",
    "| A Shots       | Total de chutes tentados pelo time visitante                                                                           |\n",
    "| H SOT         | Chutes a gol do time da casa (chutes do time da casa que foram no gol)                                                |\n",
    "| A SOT         | Chutes a gol do time visitante (chutes do time visitante que foram no gol)                                            |\n",
    "| H Fouls       | Número de faltas cometidas pelo time da casa                                                                           |\n",
    "| A Fouls       | Número de faltas cometidas pelo time visitante                                                                         |\n",
    "| H Corners     | Escanteios concedidos ao time da casa                                                                                  |\n",
    "| A Corners     | Escanteios concedidos ao time visitante                                                                                |\n",
    "| H Yellow      | Cartões amarelos mostrados aos jogadores do time da casa                                                               |\n",
    "| A Yellow      | Cartões amarelos mostrados aos jogadores do time visitante                                                             |\n",
    "| H Red         | Cartões vermelhos mostrados aos jogadores do time da casa                                                              |\n",
    "| A Red         | Cartões vermelhos mostrados aos jogadores do time visitante                                                            |\n",
    "| Display_Order | Sistema de ordenação numérica para exibição das partidas (provavelmente usado para classificação ou apresentação)       |\n",
    "| League        | A competição ou liga em que a partida foi disputada                                                                    |\n"
   ]
  }
 ],
 "metadata": {
  "language_info": {
   "name": "python"
  }
 },
 "nbformat": 4,
 "nbformat_minor": 5
}
